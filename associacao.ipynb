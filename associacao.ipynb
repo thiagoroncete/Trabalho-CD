{
 "cells": [
  {
   "cell_type": "code",
   "execution_count": 51,
   "metadata": {},
   "outputs": [],
   "source": [
    "import pandas as pd\n",
    "from mlxtend.frequent_patterns import fpgrowth, association_rules\n",
    "from mlxtend.preprocessing import TransactionEncoder\n",
    "import os\n",
    "\n",
    "#1 Carregamento do CSV\n",
    "nome_arquivo = \"dados_tratados.csv\"\n",
    "df = pd.read_csv(nome_arquivo)"
   ]
  },
  {
   "cell_type": "code",
   "execution_count": 52,
   "metadata": {},
   "outputs": [
    {
     "name": "stdout",
     "output_type": "stream",
     "text": [
      "\n",
      " Transações com múltiplos produtos: 59906\n"
     ]
    }
   ],
   "source": [
    "#2 Agrupamento por id_da_compra\n",
    "agrupado = df.groupby(\"id_da_compra\")[\"produto\"].apply(list)\n",
    "\n",
    "#3 Transações com mais de um produto\n",
    "transacoes_multiplos = agrupado[agrupado.apply(lambda x: len(set(x)) > 1)]\n",
    "print(f\"\\n Transações com múltiplos produtos: {len(transacoes_multiplos)}\")"
   ]
  },
  {
   "cell_type": "code",
   "execution_count": 53,
   "metadata": {},
   "outputs": [],
   "source": [
    "#4 Simula caso não existam transações suficientes\n",
    "if len(transacoes_multiplos) == 0:\n",
    "    print(\" Simulando transações com múltiplos produtos...\")\n",
    "    df_simulado = df.sample(frac=1).copy()\n",
    "    df_simulado[\"id_simulado\"] = (df_simulado.index // 5) + 1\n",
    "    transacoes_multiplos = df_simulado.groupby(\"id_simulado\")[\"produto\"].apply(list)\n",
    "    print(f\"Transações simuladas: {len(transacoes_multiplos)}\")"
   ]
  },
  {
   "cell_type": "code",
   "execution_count": 54,
   "metadata": {},
   "outputs": [],
   "source": [
    "#5 One-hot encoding\n",
    "te = TransactionEncoder()\n",
    "te_ary = te.fit(transacoes_multiplos).transform(transacoes_multiplos)\n",
    "df_binario = pd.DataFrame(te_ary, columns=te.columns_)"
   ]
  },
  {
   "cell_type": "code",
   "execution_count": 55,
   "metadata": {},
   "outputs": [],
   "source": [
    "#6 FP-Growth\n",
    "min_support_value = 0.05  # Ajuste o valor conforme necessário\n",
    "frequent_itemsets = fpgrowth(df_binario, min_support=min_support_value, use_colnames=True)"
   ]
  },
  {
   "cell_type": "code",
   "execution_count": 56,
   "metadata": {},
   "outputs": [
    {
     "name": "stdout",
     "output_type": "stream",
     "text": [
      "\n",
      "Regras de associação encontradas: 53\n",
      "          antecedents        consequents   support  confidence      lift\n",
      "59          (Cerveja)     (Refrigerante)  0.065720    0.585080  4.619714\n",
      "58     (Refrigerante)          (Cerveja)  0.065720    0.518914  4.619714\n",
      "61          (Cerveja)  (Suco De Laranja)  0.062615    0.557438  4.583294\n",
      "60  (Suco De Laranja)          (Cerveja)  0.062615    0.514823  4.583294\n",
      "21  (Suco De Laranja)     (Refrigerante)  0.069559    0.571919  4.515799\n",
      "22     (Refrigerante)  (Suco De Laranja)  0.069559    0.549229  4.515799\n",
      "36  (Molho De Tomate)            (Arroz)  0.062665    0.369779  4.329946\n",
      "35            (Arroz)  (Molho De Tomate)  0.062665    0.733776  4.329946\n",
      "34           (Feijão)  (Molho De Tomate)  0.053734    0.540736  3.190831\n",
      "33  (Molho De Tomate)           (Feijão)  0.053734    0.317080  3.190831\n",
      "\n",
      "Arquivo 'regras_associacao.csv' salvo com sucesso!\n"
     ]
    }
   ],
   "source": [
    "#7 Sem itens frequentes\n",
    "if frequent_itemsets.empty:\n",
    "    print(\" Nenhum item frequente encontrado.\")\n",
    "else:\n",
    "    #8 Regras de associação\n",
    "    regras = association_rules(frequent_itemsets, metric=\"confidence\", min_threshold=0.2)\n",
    "\n",
    "    #9 Apenas suporte, confiança e lift, com filtro de qualidade\n",
    "    regras_qualidade = regras[[\"antecedents\", \"consequents\", \"support\", \"confidence\", \"lift\"]]\n",
    "    regras_qualidade = regras_qualidade[\n",
    "        (regras_qualidade[\"lift\"] > 1) & (regras_qualidade[\"confidence\"] >= 0.2)\n",
    "    ]\n",
    "    regras_qualidade = regras_qualidade.sort_values(by=\"lift\", ascending=False)\n",
    "\n",
    "    #10 Resultado\n",
    "    print(f\"\\nRegras de associação encontradas: {len(regras_qualidade)}\")\n",
    "    print(regras_qualidade.head(10))\n",
    "\n",
    "    #11 Exporta CSV\n",
    "    regras_qualidade.to_csv(\"regras_associacao.csv\", index=False)\n",
    "    print(\"\\nArquivo 'regras_associacao.csv' salvo com sucesso!\")"
   ]
  },
  {
   "cell_type": "code",
   "execution_count": 57,
   "metadata": {},
   "outputs": [
    {
     "name": "stdout",
     "output_type": "stream",
     "text": [
      "\n",
      " Top 10 Produtos Mais Vendidos:\n",
      "            produto  quantidade_vendida\n",
      "0    Pasta De Dente               25824\n",
      "1  Queijo Mussarela               25762\n",
      "2          Sabonete               24411\n",
      "3          Manteiga               23868\n",
      "4              Café               22013\n",
      "5            Açúcar               21787\n",
      "6      Papel Toalha               18433\n",
      "7      Desinfetante               18252\n",
      "8   Molho De Tomate               12349\n",
      "9     Condicionador               11249\n",
      "Arquivo 'ranking_produtos.csv' salvo com sucesso!\n"
     ]
    }
   ],
   "source": [
    "#12 Ranking dos produtos mais vendidos\n",
    "if 'produto' in df.columns:\n",
    "    ranking_produtos = df['produto'].value_counts().reset_index()\n",
    "    ranking_produtos.columns = ['produto', 'quantidade_vendida']\n",
    "\n",
    "    print(\"\\n Top 10 Produtos Mais Vendidos:\")\n",
    "    print(ranking_produtos.head(10))\n",
    "\n",
    "    ranking_produtos.to_csv(\"ranking_produtos.csv\", index=False)\n",
    "    print(\"Arquivo 'ranking_produtos.csv' salvo com sucesso!\")"
   ]
  },
  {
   "cell_type": "code",
   "execution_count": 58,
   "metadata": {},
   "outputs": [
    {
     "name": "stdout",
     "output_type": "stream",
     "text": [
      "\n",
      " Top Estados com Mais Compras:\n",
      "  estado  quantidade_vendas\n",
      "0     MG             225726\n",
      "1     RJ              98044\n",
      "2     SP              38728\n",
      "3     SC                147\n",
      "4     PR                140\n",
      "5     RS                135\n",
      "6     MT                130\n",
      " Arquivo 'ranking_estados.csv' salvo com sucesso!\n"
     ]
    }
   ],
   "source": [
    "# #13 Ranking de estados com mais vendas\n",
    "if 'estado' in df.columns:\n",
    "    ranking_estados = df['estado'].value_counts().reset_index()\n",
    "    ranking_estados.columns = ['estado', 'quantidade_vendas']\n",
    "\n",
    "    print(\"\\n Top Estados com Mais Compras:\")\n",
    "    print(ranking_estados.head(10))\n",
    "\n",
    "    ranking_estados.to_csv(\"ranking_estados.csv\", index=False)\n",
    "    print(\" Arquivo 'ranking_estados.csv' salvo com sucesso!\")"
   ]
  }
 ],
 "metadata": {
  "kernelspec": {
   "display_name": "Python 3",
   "language": "python",
   "name": "python3"
  },
  "language_info": {
   "codemirror_mode": {
    "name": "ipython",
    "version": 3
   },
   "file_extension": ".py",
   "mimetype": "text/x-python",
   "name": "python",
   "nbconvert_exporter": "python",
   "pygments_lexer": "ipython3",
   "version": "3.12.5"
  }
 },
 "nbformat": 4,
 "nbformat_minor": 2
}
